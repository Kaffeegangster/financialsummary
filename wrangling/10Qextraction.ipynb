{
 "cells": [
  {
   "cell_type": "code",
   "execution_count": 21,
   "metadata": {
    "pycharm": {
     "is_executing": false
    }
   },
   "outputs": [],
   "source": [
    "import os\n",
    "from xml.etree import cElementTree as ET"
   ]
  },
  {
   "cell_type": "code",
   "execution_count": 50,
   "metadata": {
    "pycharm": {
     "is_executing": false,
     "name": "#%%\n"
    }
   },
   "outputs": [],
   "source": [
    "def extract10q(path):\n",
    "    for file in os.listdir(path):\n",
    "        if file.endswith(\".xml\") and file[-8] != \"_\":\n",
    "            print(path + \"/\" + file)\n",
    "\n",
    "def dostuff(file):\n",
    "    tree = ET.parse(str(file))\n",
    "    root = tree.getroot()\n",
    "    print(root.findall(\".\"))\n",
    "    #for page in list(root):\n",
    "    #    print(page)\n",
    "    #   content = page.findall('content').text\n",
    "    #    print('title: %s; content: %s' % (title, content))\n"
   ]
  },
  {
   "cell_type": "code",
   "execution_count": 52,
   "metadata": {
    "pycharm": {
     "is_executing": false,
     "name": "#%%\n"
    },
    "scrolled": true
   },
   "outputs": [
    {
     "name": "stdout",
     "output_type": "stream",
     "text": [
      "[<Element '{http://www.xbrl.org/2003/instance}xbrl' at 0x000001C2ECD9DF48>]\n"
     ]
    }
   ],
   "source": [
    "# extract10q(\"C:/Users/jsbae/UnzippedXBRL/unzipped_tech_XBRL\")\n",
    "\n",
    "dostuff(\"C:/Users/jsbae/UnzippedXBRL/unzipped_tech_XBRL/ast-20190314.xml\")\n"
   ]
  }
 ],
 "metadata": {
  "kernelspec": {
   "display_name": "Python 3",
   "language": "python",
   "name": "python3"
  },
  "language_info": {
   "codemirror_mode": {
    "name": "ipython",
    "version": 3
   },
   "file_extension": ".py",
   "mimetype": "text/x-python",
   "name": "python",
   "nbconvert_exporter": "python",
   "pygments_lexer": "ipython3",
   "version": "3.7.4"
  },
  "pycharm": {
   "stem_cell": {
    "cell_type": "raw",
    "source": [],
    "metadata": {
     "collapsed": false
    }
   }
  }
 },
 "nbformat": 4,
 "nbformat_minor": 1
}