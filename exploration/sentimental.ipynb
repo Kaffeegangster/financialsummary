{
 "cells": [
  {
   "cell_type": "code",
   "execution_count": 2,
   "metadata": {
    "pycharm": {
     "is_executing": false
    }
   },
   "outputs": [
    {
     "name": "stdout",
     "text": [
      "Text: Wow! How is everyone doing on this wonderful day!\n",
      "Sentiment: 0.5, 1.0\n"
     ],
     "output_type": "stream"
    }
   ],
   "source": [
    "from google.cloud import language\n",
    "from google.cloud.language import enums\n",
    "from google.cloud.language import types\n",
    "from google.oauth2 import service_account\n",
    "import nltk\n",
    "import pandas as pd\n",
    "import matplotlib.pyplot as plt\n",
    "import dtale\n",
    "\n",
    "# json credentials for google cloud access\n",
    "credentials = service_account.Credentials.from_service_account_file(\"C:/Users/jsbae/Downloads/DSCI 400-73f3876225aa.json\")\n",
    "\n",
    "# Instantiates a client\n",
    "client = language.LanguageServiceClient(credentials=credentials)\n",
    "\n",
    "# The text to analyze\n",
    "text = u'Wow! How is everyone doing on this wonderful day!'\n",
    "document = types.Document(\n",
    "    content=text,\n",
    "    type=enums.Document.Type.PLAIN_TEXT)\n",
    "\n",
    "# Detects the sentiment of the text\n",
    "sentiment = client.analyze_sentiment(document=document).document_sentiment\n",
    "\n",
    "print('Text: {}'.format(text))\n",
    "\n",
    "# The magnitude of a document's sentiment indicates how much emotional content is present within the document,\n",
    "# and this value is often proportional to the length of the document.\n",
    "print('Sentiment: {}, {}'.format(sentiment.score, sentiment.magnitude))"
   ]
  },
  {
   "cell_type": "code",
   "execution_count": 3,
   "metadata": {
    "collapsed": false,
    "jupyter": {
     "outputs_hidden": false
    },
    "pycharm": {
     "is_executing": false,
     "name": "#%%\n"
    }
   },
   "outputs": [],
   "source": [
    "\"\"\"\n",
    "TODO: Look at the sentences that we highlight and see if they output any unusual sentiment values\n",
    "\n",
    "Clearly Positive:\t\"score\": 0.8, \"magnitude\": 3.0\n",
    "Clearly Negative:\t\"score\": -0.6, \"magnitude\": 4.0\n",
    "Neutral:\t        \"score\": 0.1, \"magnitude\": 0.0\n",
    "Mixed:            \t\"score\": 0.0, \"magnitude\": 4.0\n",
    "\"\"\"\n",
    "\n",
    "def sentimentAnalysis(doc_num):\n",
    "    \"\"\"\n",
    "    This function takes in a document number in .txt and outputs a pandas dataframe that lists the magnitude and score \n",
    "    of all sentences\n",
    "    :param doc_num: document number\n",
    "    :return: pandas datafame with the index of each sentence corresponding to a score and magnitude rating\n",
    "    \"\"\"\n",
    "    # read file won't tokenize??\n",
    "    text_file = open('C:/Users/jsbae/financialsummary/resources/filtered/' + str(doc_num) +'.txt', encoding=\"utf-8\").read()\n",
    "    text_file = nltk.sent_tokenize(text_file)\n",
    "    i = 0\n",
    "    data_list = list()\n",
    "    for line in text_file:\n",
    "        document = types.Document(\n",
    "            content=line,\n",
    "            type=enums.Document.Type.PLAIN_TEXT)\n",
    "        sentiment = client.analyze_sentiment(document=document).document_sentiment\n",
    "        \n",
    "        #print('Text: {}'.format(line))\n",
    "        #print('Sentiment: {}, {}'.format(sentiment.score, sentiment.magnitude))\n",
    "        \n",
    "        sentiment_data = (i, sentiment.score, sentiment.magnitude)\n",
    "        data_list.append(sentiment_data)\n",
    "        i += 1\n",
    "    \n",
    "    \n",
    "    sentiment_df = pd.DataFrame(data=data_list, columns=['Index', 'Score', 'Magnitude'])\n",
    "    sentiment_df = sentiment_df.sort_values(by=['Score', 'Magnitude'])\n",
    "    \n",
    "    return sentiment_df"
   ]
  },
  {
   "cell_type": "code",
   "execution_count": 6,
   "metadata": {
    "collapsed": false,
    "jupyter": {
     "outputs_hidden": false
    },
    "pycharm": {
     "is_executing": false,
     "name": "#%%\n"
    }
   },
   "outputs": [],
   "source": [
    "# 423 valid sentences (for the apple dataframe)\n",
    "apple_df = sentimentAnalysis(0)\n",
    "some_df1 = sentimentAnalysis(1)\n",
    "some_df2 = sentimentAnalysis(2)\n",
    "\n"
   ]
  },
  {
   "cell_type": "code",
   "execution_count": 18,
   "metadata": {
    "collapsed": false,
    "jupyter": {
     "outputs_hidden": false
    },
    "pycharm": {
     "is_executing": false,
     "name": "#%%\n"
    }
   },
   "outputs": [
    {
     "traceback": [
      "\u001b[1;31m---------------------------------------------------------------------------\u001b[0m",
      "\u001b[1;31mNameError\u001b[0m                                 Traceback (most recent call last)",
      "\u001b[1;32m<ipython-input-18-69a9180b4426>\u001b[0m in \u001b[0;36m<module>\u001b[1;34m\u001b[0m\n\u001b[0;32m     10\u001b[0m \u001b[1;31m#plt.title(\"Apple's Score Distribution\")\u001b[0m\u001b[1;33m\u001b[0m\u001b[1;33m\u001b[0m\u001b[1;33m\u001b[0m\u001b[0m\n\u001b[0;32m     11\u001b[0m \u001b[1;31m#plt.hist(some_df2['Score'], bins=20, stacked=True, fill=False, label='orange')\u001b[0m\u001b[1;33m\u001b[0m\u001b[1;33m\u001b[0m\u001b[1;33m\u001b[0m\u001b[0m\n\u001b[1;32m---> 12\u001b[1;33m \u001b[0mline\u001b[0m\u001b[1;33m.\u001b[0m\u001b[0mset_label\u001b[0m\u001b[1;33m(\u001b[0m\u001b[1;34m'Label via method'\u001b[0m\u001b[1;33m)\u001b[0m\u001b[1;33m\u001b[0m\u001b[1;33m\u001b[0m\u001b[0m\n\u001b[0m\u001b[0;32m     13\u001b[0m \u001b[0mline\u001b[0m\u001b[1;33m,\u001b[0m \u001b[1;33m=\u001b[0m \u001b[0max\u001b[0m\u001b[1;33m.\u001b[0m\u001b[0mplot\u001b[0m\u001b[1;33m(\u001b[0m\u001b[1;33m[\u001b[0m\u001b[1;36m1\u001b[0m\u001b[1;33m,\u001b[0m \u001b[1;36m2\u001b[0m\u001b[1;33m,\u001b[0m \u001b[1;36m3\u001b[0m\u001b[1;33m]\u001b[0m\u001b[1;33m)\u001b[0m\u001b[1;33m\u001b[0m\u001b[1;33m\u001b[0m\u001b[0m\n\u001b[0;32m     14\u001b[0m \u001b[0max\u001b[0m\u001b[1;33m.\u001b[0m\u001b[0mlegend\u001b[0m\u001b[1;33m(\u001b[0m\u001b[1;33m)\u001b[0m\u001b[1;33m\u001b[0m\u001b[1;33m\u001b[0m\u001b[0m\n",
      "\u001b[1;31mNameError\u001b[0m: name 'line' is not defined"
     ],
     "ename": "NameError",
     "evalue": "name 'line' is not defined",
     "output_type": "error"
    },
    {
     "data": {
      "text/plain": "<Figure size 432x288 with 1 Axes>",
      "image/png": "[encoded data removed]"
     },
     "metadata": {
      "needs_background": "light"
     },
     "output_type": "display_data"
    }
   ],
   "source": [
    "\"\"\"\n",
    "Outcome: Mostly clearly negative sentences?? (mostly consists of negative sentences)\n",
    "\"\"\"\n",
    "\n",
    "plt.title(\"Companies' Score Distribution\")\n",
    "colors = ['blue', 'orange', 'green']\n",
    "plt.hist((apple_df['Score'], some_df1['Score'], some_df2['Score']), histtype='bar', bins=20, stacked=True, color=colors)\n"
   ]
  },
  {
   "cell_type": "code",
   "execution_count": 19,
   "metadata": {
    "collapsed": false,
    "jupyter": {
     "outputs_hidden": false
    },
    "pycharm": {
     "is_executing": false,
     "name": "#%%\n"
    }
   },
   "outputs": [
    {
     "data": {
      "text/plain": "([array([114.,  59.,   0.,  39.,  31.,   0.,  30.,  36.,   0.,  46.,  26.,\n           0.,  23.,  18.,   0.,   0.,   1.,   0.,   0.,   0.]),\n  array([221., 116.,   0.,  77.,  61.,   0.,  59.,  66.,   0.,  84.,  51.,\n           0.,  44.,  34.,   0.,   0.,   2.,   0.,   0.,   0.]),\n  array([333., 161.,   0., 120.,  91.,   0.,  96.,  97.,   0., 117.,  77.,\n           0.,  67.,  50.,   0.,   0.,   3.,   0.,   0.,   1.])],\n array([0.        , 0.065     , 0.13      , 0.19499999, 0.25999999,\n        0.32499999, 0.38999999, 0.45499998, 0.51999998, 0.58499998,\n        0.64999998, 0.71499997, 0.77999997, 0.84499997, 0.90999997,\n        0.97499996, 1.03999996, 1.10499996, 1.16999996, 1.23499995,\n        1.29999995]),\n <a list of 3 Lists of Patches objects>)"
     },
     "metadata": {},
     "output_type": "execute_result",
     "execution_count": 19
    },
    {
     "data": {
      "text/plain": "<Figure size 432x288 with 1 Axes>",
      "image/png": "[encoded data removed]"
     },
     "metadata": {
      "needs_background": "light"
     },
     "output_type": "display_data"
    }
   ],
   "source": [
    "\"\"\"\n",
    "Outcome: Mostly non-indicate of any positive of negative sentiment?? (most sentences do not have a sentiment reading)\n",
    "\"\"\"\n",
    "\n",
    "plt.title(\"Companies' Magnitude Distribution\")\n",
    "plt.hist((apple_df['Magnitude'], some_df1['Magnitude'], some_df2['Magnitude']), histtype='bar', bins=20, stacked=True, color=colors)\n"
   ]
  },
  {
   "cell_type": "code",
   "execution_count": 9,
   "metadata": {
    "collapsed": false,
    "jupyter": {
     "outputs_hidden": false
    },
    "pycharm": {
     "is_executing": false,
     "name": "#%%\n"
    }
   },
   "outputs": [
    {
     "data": {
      "text/html": [
       "\n",
       "        <iframe\n",
       "            width=\"100%\"\n",
       "            height=\"350\"\n",
       "            src=\"http://JoshuaDellXPS:40001/dtale/iframe/1\"\n",
       "            frameborder=\"0\"\n",
       "            allowfullscreen\n",
       "        ></iframe>\n",
       "        "
      ],
      "text/plain": [
       "<IPython.lib.display.IFrame at 0x29188c6c3c8>"
      ]
     },
     "metadata": {},
     "output_type": "display_data"
    },
    {
     "data": {
      "text/plain": []
     },
     "execution_count": 9,
     "metadata": {},
     "output_type": "execute_result"
    }
   ],
   "source": [
    "# this just displays the dataframe as an excel spreadsheet\n",
    "dtale.show(apple_df)\n"
   ]
  }
 ],
 "metadata": {
  "kernelspec": {
   "display_name": "Python 3",
   "language": "python",
   "name": "python3"
  },
  "language_info": {
   "codemirror_mode": {
    "name": "ipython",
    "version": 3
   },
   "file_extension": ".py",
   "mimetype": "text/x-python",
   "name": "python",
   "nbconvert_exporter": "python",
   "pygments_lexer": "ipython3",
   "version": "3.7.4"
  },
  "pycharm": {
   "stem_cell": {
    "cell_type": "raw",
    "source": [],
    "metadata": {
     "collapsed": false
    }
   }
  }
 },
 "nbformat": 4,
 "nbformat_minor": 4
}