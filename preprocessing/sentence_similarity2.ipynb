{
 "cells": [
  {
   "cell_type": "markdown",
   "metadata": {
    "collapsed": true
   },
   "source": [
    "Calculates and creates histogram of the sentence similarity scores along off diagonals "
   ]
  },
  {
   "cell_type": "code",
   "execution_count": 3,
   "metadata": {},
   "outputs": [],
   "source": [
    "from bert_sentence_embedding import encodeSentences\n",
    "CUTOFF = 740 # number of sentences to take from the document \n",
    "MARGIN = 2"
   ]
  },
  {
   "cell_type": "code",
   "execution_count": 13,
   "metadata": {},
   "outputs": [],
   "source": [
    "\"\"\"\n",
    "3 documents are all 10Qs from Apple \n",
    "\"\"\"\n",
    "\n",
    "sentences = []\n",
    "documents = [\"0.txt\", \"1.txt\", \"2.txt\"]\n",
    "doc_sents = []\n",
    "for doc in documents:\n",
    "    sentences = open(f\"../resources/filtered/{doc}\").read().split('.')[:CUTOFF]\n",
    "    non_empty =[sentence for sentence in sentences if len(sentence) > 0]\n",
    "    doc_sents.append(non_empty)"
   ]
  },
  {
   "cell_type": "code",
   "execution_count": null,
   "metadata": {},
   "outputs": [
    {
     "name": "stdout",
     "output_type": "stream",
     "text": [
      "[[ 0.30229375  0.51445585  0.8663824  ... -0.27670416 -0.02666094\n",
      "  -0.24133253]\n",
      " [ 0.38225195  0.56831706  0.5232722  ... -0.4396592   0.41828185\n",
      "   0.07431965]\n",
      " [ 0.13062873  0.56988686  0.19007398 ... -0.3400016   0.05623284\n",
      "  -0.12982665]\n",
      " ...\n",
      " [-0.6611995  -0.29964027 -0.40225136 ...  0.12445128  0.14107852\n",
      "   0.09492875]\n",
      " [-0.30176148 -0.26793653  0.5312404  ... -0.25267023 -0.04364827\n",
      "   0.37935883]\n",
      " [-0.30062684 -0.2259078   0.13194107 ... -0.41588297 -0.07142143\n",
      "   0.50377464]]\n"
     ]
    }
   ],
   "source": [
    "doc_vectors = [encodeSentences(sents) for sents in doc_sents]"
   ]
  },
  {
   "cell_type": "code",
   "execution_count": null,
   "metadata": {},
   "outputs": [],
   "source": [
    "for i in range(CUTOFF):\n",
    "    \n",
    "    "
   ]
  }
 ],
 "metadata": {
  "kernelspec": {
   "display_name": "Python 3",
   "language": "python",
   "name": "python3"
  },
  "language_info": {
   "codemirror_mode": {
    "name": "ipython",
    "version": 3
   },
   "file_extension": ".py",
   "mimetype": "text/x-python",
   "name": "python",
   "nbconvert_exporter": "python",
   "pygments_lexer": "ipython3",
   "version": "3.7.4"
  },
  "pycharm": {
   "stem_cell": {
    "cell_type": "raw",
    "source": [],
    "metadata": {
     "collapsed": false
    }
   }
  }
 },
 "nbformat": 4,
 "nbformat_minor": 1
}